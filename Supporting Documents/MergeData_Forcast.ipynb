{
  "nbformat": 4,
  "nbformat_minor": 0,
  "metadata": {
    "colab": {
      "provenance": []
    },
    "kernelspec": {
      "name": "python3",
      "display_name": "Python 3"
    },
    "language_info": {
      "name": "python"
    }
  },
  "cells": [
    {
      "cell_type": "code",
      "execution_count": 2,
      "metadata": {
        "colab": {
          "base_uri": "https://localhost:8080/"
        },
        "id": "PK8O60vluRmi",
        "outputId": "4a72a5bd-f001-4d9f-8362-6e0aaf05aef4"
      },
      "outputs": [
        {
          "output_type": "stream",
          "name": "stdout",
          "text": [
            "Requirement already satisfied: prophet in /usr/local/lib/python3.10/dist-packages (1.1.6)\n",
            "Requirement already satisfied: cmdstanpy>=1.0.4 in /usr/local/lib/python3.10/dist-packages (from prophet) (1.2.4)\n",
            "Requirement already satisfied: numpy>=1.15.4 in /usr/local/lib/python3.10/dist-packages (from prophet) (1.26.4)\n",
            "Requirement already satisfied: matplotlib>=2.0.0 in /usr/local/lib/python3.10/dist-packages (from prophet) (3.8.0)\n",
            "Requirement already satisfied: pandas>=1.0.4 in /usr/local/lib/python3.10/dist-packages (from prophet) (2.2.2)\n",
            "Requirement already satisfied: holidays<1,>=0.25 in /usr/local/lib/python3.10/dist-packages (from prophet) (0.62)\n",
            "Requirement already satisfied: tqdm>=4.36.1 in /usr/local/lib/python3.10/dist-packages (from prophet) (4.66.6)\n",
            "Requirement already satisfied: importlib-resources in /usr/local/lib/python3.10/dist-packages (from prophet) (6.4.5)\n",
            "Requirement already satisfied: stanio<2.0.0,>=0.4.0 in /usr/local/lib/python3.10/dist-packages (from cmdstanpy>=1.0.4->prophet) (0.5.1)\n",
            "Requirement already satisfied: python-dateutil in /usr/local/lib/python3.10/dist-packages (from holidays<1,>=0.25->prophet) (2.8.2)\n",
            "Requirement already satisfied: contourpy>=1.0.1 in /usr/local/lib/python3.10/dist-packages (from matplotlib>=2.0.0->prophet) (1.3.1)\n",
            "Requirement already satisfied: cycler>=0.10 in /usr/local/lib/python3.10/dist-packages (from matplotlib>=2.0.0->prophet) (0.12.1)\n",
            "Requirement already satisfied: fonttools>=4.22.0 in /usr/local/lib/python3.10/dist-packages (from matplotlib>=2.0.0->prophet) (4.55.3)\n",
            "Requirement already satisfied: kiwisolver>=1.0.1 in /usr/local/lib/python3.10/dist-packages (from matplotlib>=2.0.0->prophet) (1.4.7)\n",
            "Requirement already satisfied: packaging>=20.0 in /usr/local/lib/python3.10/dist-packages (from matplotlib>=2.0.0->prophet) (24.2)\n",
            "Requirement already satisfied: pillow>=6.2.0 in /usr/local/lib/python3.10/dist-packages (from matplotlib>=2.0.0->prophet) (11.0.0)\n",
            "Requirement already satisfied: pyparsing>=2.3.1 in /usr/local/lib/python3.10/dist-packages (from matplotlib>=2.0.0->prophet) (3.2.0)\n",
            "Requirement already satisfied: pytz>=2020.1 in /usr/local/lib/python3.10/dist-packages (from pandas>=1.0.4->prophet) (2024.2)\n",
            "Requirement already satisfied: tzdata>=2022.7 in /usr/local/lib/python3.10/dist-packages (from pandas>=1.0.4->prophet) (2024.2)\n",
            "Requirement already satisfied: six>=1.5 in /usr/local/lib/python3.10/dist-packages (from python-dateutil->holidays<1,>=0.25->prophet) (1.17.0)\n"
          ]
        }
      ],
      "source": [
        "# Import the required libraries and dependencies\n",
        "import pandas as pd\n",
        "import matplotlib.pyplot as plt\n",
        "!pip install prophet\n",
        "from prophet import Prophet\n",
        "import gdown\n",
        "%matplotlib inline"
      ]
    },
    {
      "cell_type": "code",
      "source": [
        "from google.colab import drive\n",
        "drive.mount('/content/drive')\n",
        "\n",
        "#URLs for downloading the updated forecast files\n",
        "url_bitcoin = 'https://drive.google.com/uc?id=1y-3nKT8RdP8-KX4F6JbUJUjQDFA-RBLC'\n",
        "gdown.download(url_bitcoin, 'forecast_bitcoin_trends.csv', quiet=False)\n",
        "\n",
        "url_sp500 = 'https://drive.google.com/uc?id=1H6RnnZrYBCBIiIz5WJ65WJpFUUEPrroT'\n",
        "gdown.download(url_sp500, 'forecast_sp500_trends.csv', quiet=False)\n",
        "\n",
        "url_gold = 'https://drive.google.com/uc?id=1VCF1dMeUF7450k1OjFS8P2iQba3ai4KB'\n",
        "gdown.download(url_gold, 'Gold_Data.csv', quiet=False)\n",
        "\n",
        "bitcoin_original = 'https://drive.google.com/uc?id=1TuhubuWlNPGlxY8GifrZcLBBx10LcZx_'\n",
        "gdown.download(bitcoin_original, 'bitcoin_analysis_dataframe.csv', quiet=False)\n"
      ],
      "metadata": {
        "colab": {
          "base_uri": "https://localhost:8080/",
          "height": 330
        },
        "id": "P13p6CdVuYSf",
        "outputId": "ec37094f-6947-4c67-cbc2-882672113ebe"
      },
      "execution_count": 3,
      "outputs": [
        {
          "output_type": "stream",
          "name": "stdout",
          "text": [
            "Mounted at /content/drive\n"
          ]
        },
        {
          "output_type": "stream",
          "name": "stderr",
          "text": [
            "Downloading...\n",
            "From: https://drive.google.com/uc?id=1y-3nKT8RdP8-KX4F6JbUJUjQDFA-RBLC\n",
            "To: /content/forecast_bitcoin_trends.csv\n",
            "100%|██████████| 785k/785k [00:00<00:00, 10.7MB/s]\n",
            "Downloading...\n",
            "From: https://drive.google.com/uc?id=1H6RnnZrYBCBIiIz5WJ65WJpFUUEPrroT\n",
            "To: /content/forecast_sp500_trends.csv\n",
            "100%|██████████| 502k/502k [00:00<00:00, 7.55MB/s]\n",
            "Downloading...\n",
            "From: https://drive.google.com/uc?id=1VCF1dMeUF7450k1OjFS8P2iQba3ai4KB\n",
            "To: /content/Gold_Data.csv\n",
            "100%|██████████| 197k/197k [00:00<00:00, 5.15MB/s]\n",
            "Downloading...\n",
            "From: https://drive.google.com/uc?id=1TuhubuWlNPGlxY8GifrZcLBBx10LcZx_\n",
            "To: /content/bitcoin_analysis_dataframe.csv\n",
            "100%|██████████| 161k/161k [00:00<00:00, 4.99MB/s]\n"
          ]
        },
        {
          "output_type": "execute_result",
          "data": {
            "text/plain": [
              "'bitcoin_analysis_dataframe.csv'"
            ],
            "application/vnd.google.colaboratory.intrinsic+json": {
              "type": "string"
            }
          },
          "metadata": {},
          "execution_count": 3
        }
      ]
    },
    {
      "cell_type": "code",
      "source": [
        "# Load the updated forecasted trends for Bitcoin and S&P 500\n",
        "forecast_bitcoin_trends = pd.read_csv('forecast_bitcoin_trends.csv')\n",
        "forecast_sp500_trends = pd.read_csv('forecast_sp500_trends.csv')"
      ],
      "metadata": {
        "id": "VzqJNqWv2dz0"
      },
      "execution_count": 4,
      "outputs": []
    },
    {
      "cell_type": "code",
      "source": [
        "# Load the data\n",
        "# Load the Gold trend data\n",
        "gold_df = pd.read_csv('Gold_Data.csv')"
      ],
      "metadata": {
        "id": "-StE2XR8ukZX"
      },
      "execution_count": 5,
      "outputs": []
    },
    {
      "cell_type": "code",
      "source": [
        "\n",
        "forecast_bitcoin_trends['ds'] = pd.to_datetime(forecast_bitcoin_trends['ds'])\n",
        "forecast_sp500_trends['ds'] = pd.to_datetime(forecast_sp500_trends['ds'])\n",
        "gold_df['Date'] = pd.to_datetime(gold_df['Date'])\n"
      ],
      "metadata": {
        "id": "llQvDaVzut6G"
      },
      "execution_count": 6,
      "outputs": []
    },
    {
      "cell_type": "code",
      "source": [
        "# Prepare Gold data for Prophet\n",
        "gold_prophet_df = gold_df[['Date', 'Price']].rename(columns={'Date': 'ds', 'Price': 'y'})\n",
        "\n",
        "# Forecast Gold trends using Prophet\n",
        "def forecast_with_prophet(data, periods=365, freq='D'):\n",
        "    model = Prophet()\n",
        "    model.fit(data)\n",
        "    future = model.make_future_dataframe(periods=periods, freq=freq)\n",
        "    forecast = model.predict(future)\n",
        "    return forecast[['ds', 'yhat']]"
      ],
      "metadata": {
        "id": "SLf3dOzzuxbe"
      },
      "execution_count": 7,
      "outputs": []
    },
    {
      "cell_type": "code",
      "source": [
        "# Generate the Gold forecast\n",
        "forecast_gold = forecast_with_prophet(gold_prophet_df, periods=365).rename(columns={'yhat': 'Gold Forecast'})"
      ],
      "metadata": {
        "colab": {
          "base_uri": "https://localhost:8080/"
        },
        "id": "89mGieA1u6sU",
        "outputId": "82a467e2-f891-42e7-b959-c3a9d7e16adf"
      },
      "execution_count": 8,
      "outputs": [
        {
          "output_type": "stream",
          "name": "stderr",
          "text": [
            "INFO:prophet:Disabling daily seasonality. Run prophet with daily_seasonality=True to override this.\n",
            "DEBUG:cmdstanpy:input tempfile: /tmp/tmpl7_clnjk/3fwi4scu.json\n",
            "DEBUG:cmdstanpy:input tempfile: /tmp/tmpl7_clnjk/33k3o9ch.json\n",
            "DEBUG:cmdstanpy:idx 0\n",
            "DEBUG:cmdstanpy:running CmdStan, num_threads: None\n",
            "DEBUG:cmdstanpy:CmdStan args: ['/usr/local/lib/python3.10/dist-packages/prophet/stan_model/prophet_model.bin', 'random', 'seed=95815', 'data', 'file=/tmp/tmpl7_clnjk/3fwi4scu.json', 'init=/tmp/tmpl7_clnjk/33k3o9ch.json', 'output', 'file=/tmp/tmpl7_clnjk/prophet_modelqrs5zf2z/prophet_model-20241216224727.csv', 'method=optimize', 'algorithm=lbfgs', 'iter=10000']\n",
            "22:47:27 - cmdstanpy - INFO - Chain [1] start processing\n",
            "INFO:cmdstanpy:Chain [1] start processing\n",
            "22:47:40 - cmdstanpy - INFO - Chain [1] done processing\n",
            "INFO:cmdstanpy:Chain [1] done processing\n"
          ]
        }
      ]
    },
    {
      "cell_type": "code",
      "source": [
        "# Merge the datasets on the 'ds' (date) column\n",
        "forecast_combined = (\n",
        "    forecast_bitcoin_trends[['ds', 'yhat']].rename(columns={'yhat': 'Bitcoin Forecast'})\n",
        "    .merge(forecast_gold, on='ds', how='inner')\n",
        "    .merge(forecast_sp500_trends[['ds', 'yhat']].rename(columns={'yhat': 'S&P 500 Forecast'}), on='ds', how='inner')\n",
        ")"
      ],
      "metadata": {
        "id": "XShyOEE4u99C"
      },
      "execution_count": 9,
      "outputs": []
    },
    {
      "cell_type": "code",
      "source": [
        "# Visualize the merged forecast data\n",
        "plt.figure(figsize=(14, 7))"
      ],
      "metadata": {
        "colab": {
          "base_uri": "https://localhost:8080/",
          "height": 52
        },
        "id": "T_WcIO3Bu_N7",
        "outputId": "c5d76b3a-28fd-4ee2-af2e-daf08d87bdfb"
      },
      "execution_count": 10,
      "outputs": [
        {
          "output_type": "execute_result",
          "data": {
            "text/plain": [
              "<Figure size 1400x700 with 0 Axes>"
            ]
          },
          "metadata": {},
          "execution_count": 10
        },
        {
          "output_type": "display_data",
          "data": {
            "text/plain": [
              "<Figure size 1400x700 with 0 Axes>"
            ]
          },
          "metadata": {}
        }
      ]
    },
    {
      "cell_type": "code",
      "source": [
        "# Plot Bitcoin forecast\n",
        "plt.plot(forecast_combined['ds'], forecast_combined['Bitcoin Forecast'], label='Bitcoin', linewidth=2)\n",
        "\n",
        "# Plot Gold forecast\n",
        "plt.plot(forecast_combined['ds'], forecast_combined['Gold Forecast'], label='Gold', linestyle='--', linewidth=2)\n",
        "\n",
        "# Plot S&P 500 forecast\n",
        "plt.plot(forecast_combined['ds'], forecast_combined['S&P 500 Forecast'], label='S&P 500', linestyle='-.', linewidth=2)\n",
        "\n",
        "# Customize the plot\n",
        "plt.title(\"Future Forecasting: Bitcoin, Gold, and S&P 500\", fontsize=16, fontweight='bold')\n",
        "plt.xlabel(\"Date\", fontsize=14)\n",
        "plt.ylabel(\"Forecasted Price\", fontsize=14)\n",
        "plt.legend(fontsize=12)\n",
        "plt.grid(alpha=0.3)\n",
        "plt.xticks(rotation=45)\n",
        "\n",
        "# Show the graph\n",
        "plt.show()"
      ],
      "metadata": {
        "colab": {
          "base_uri": "https://localhost:8080/",
          "height": 499
        },
        "id": "CO0jipAZvFDS",
        "outputId": "ebdf2176-757f-4509-c3e2-dbe4f0e3e411"
      },
      "execution_count": 11,
      "outputs": [
        {
          "output_type": "display_data",
          "data": {
            "text/plain": [
              "<Figure size 640x480 with 1 Axes>"
            ],
            "image/png": "[encoded data removed]"
          },
          "metadata": {}
        }
      ]
    },
    {
      "cell_type": "code",
      "source": [
        "# Drop any values that are blank\n",
        "\n",
        "\n",
        "# Read in original bitcoin data csv to a dataframe\n",
        "bitcoin_original_df = pd.read_csv(\"https://drive.google.com/uc?id=1g_bLlJpB0B9TkPEnTwCmeGlhZVqTOZ5L\",\n",
        "                 index_col=\"Date\",\n",
        "                 parse_dates=True,\n",
        "                 thousands=',' # Add thousands separator to handle commas in numbers\n",
        "                )\n",
        "\n",
        "# Create a new column in the bitcoin_original_df DataFrame called Stock Volatility\n",
        "# This column should calculate the standard deviation of the closing stock price return data over a 4 period rolling window\n",
        "bitcoin_original_df['Stock Volatility'] = bitcoin_original_df['Price'].rolling(window=4).std()\n",
        "bitcoin_original_df.head()"
      ],
      "metadata": {
        "colab": {
          "base_uri": "https://localhost:8080/",
          "height": 238
        },
        "id": "HDVp0mf8SKvK",
        "outputId": "556ecff7-e7cb-4c21-d039-61994c8897de"
      },
      "execution_count": 15,
      "outputs": [
        {
          "output_type": "execute_result",
          "data": {
            "text/plain": [
              "               Price      Open      High      Low     Vol. Change %  \\\n",
              "Date                                                                  \n",
              "2024-12-09   97359.4  101129.7  101198.6  94395.8  321.01K   -3.72%   \n",
              "2024-12-08  101115.8   99837.0  101339.9  98713.9  128.93K    1.28%   \n",
              "2024-12-07   99837.0   99757.2  100441.8  98969.0  118.44K    0.08%   \n",
              "2024-12-06   99760.7   96968.9  101908.5  96452.0  213.49K    2.88%   \n",
              "2024-12-05   96970.8   98624.8  103719.4  92510.4  245.79K   -1.69%   \n",
              "\n",
              "            Stock Volatility  \n",
              "Date                          \n",
              "2024-12-09               NaN  \n",
              "2024-12-08               NaN  \n",
              "2024-12-07               NaN  \n",
              "2024-12-06       1567.714141  \n",
              "2024-12-05       1747.787091  "
            ],
            "text/html": [
              "\n",
              "  <div id=\"df-f966cc0a-4558-4e08-9131-f339e0bccff4\" class=\"colab-df-container\">\n",
              "    <div>\n",
              "<style scoped>\n",
              "    .dataframe tbody tr th:only-of-type {\n",
              "        vertical-align: middle;\n",
              "    }\n",
              "\n",
              "    .dataframe tbody tr th {\n",
              "        vertical-align: top;\n",
              "    }\n",
              "\n",
              "    .dataframe thead th {\n",
              "        text-align: right;\n",
              "    }\n",
              "</style>\n",
              "<table border=\"1\" class=\"dataframe\">\n",
              "  <thead>\n",
              "    <tr style=\"text-align: right;\">\n",
              "      <th></th>\n",
              "      <th>Price</th>\n",
              "      <th>Open</th>\n",
              "      <th>High</th>\n",
              "      <th>Low</th>\n",
              "      <th>Vol.</th>\n",
              "      <th>Change %</th>\n",
              "      <th>Stock Volatility</th>\n",
              "    </tr>\n",
              "    <tr>\n",
              "      <th>Date</th>\n",
              "      <th></th>\n",
              "      <th></th>\n",
              "      <th></th>\n",
              "      <th></th>\n",
              "      <th></th>\n",
              "      <th></th>\n",
              "      <th></th>\n",
              "    </tr>\n",
              "  </thead>\n",
              "  <tbody>\n",
              "    <tr>\n",
              "      <th>2024-12-09</th>\n",
              "      <td>97359.4</td>\n",
              "      <td>101129.7</td>\n",
              "      <td>101198.6</td>\n",
              "      <td>94395.8</td>\n",
              "      <td>321.01K</td>\n",
              "      <td>-3.72%</td>\n",
              "      <td>NaN</td>\n",
              "    </tr>\n",
              "    <tr>\n",
              "      <th>2024-12-08</th>\n",
              "      <td>101115.8</td>\n",
              "      <td>99837.0</td>\n",
              "      <td>101339.9</td>\n",
              "      <td>98713.9</td>\n",
              "      <td>128.93K</td>\n",
              "      <td>1.28%</td>\n",
              "      <td>NaN</td>\n",
              "    </tr>\n",
              "    <tr>\n",
              "      <th>2024-12-07</th>\n",
              "      <td>99837.0</td>\n",
              "      <td>99757.2</td>\n",
              "      <td>100441.8</td>\n",
              "      <td>98969.0</td>\n",
              "      <td>118.44K</td>\n",
              "      <td>0.08%</td>\n",
              "      <td>NaN</td>\n",
              "    </tr>\n",
              "    <tr>\n",
              "      <th>2024-12-06</th>\n",
              "      <td>99760.7</td>\n",
              "      <td>96968.9</td>\n",
              "      <td>101908.5</td>\n",
              "      <td>96452.0</td>\n",
              "      <td>213.49K</td>\n",
              "      <td>2.88%</td>\n",
              "      <td>1567.714141</td>\n",
              "    </tr>\n",
              "    <tr>\n",
              "      <th>2024-12-05</th>\n",
              "      <td>96970.8</td>\n",
              "      <td>98624.8</td>\n",
              "      <td>103719.4</td>\n",
              "      <td>92510.4</td>\n",
              "      <td>245.79K</td>\n",
              "      <td>-1.69%</td>\n",
              "      <td>1747.787091</td>\n",
              "    </tr>\n",
              "  </tbody>\n",
              "</table>\n",
              "</div>\n",
              "    <div class=\"colab-df-buttons\">\n",
              "\n",
              "  <div class=\"colab-df-container\">\n",
              "    <button class=\"colab-df-convert\" onclick=\"convertToInteractive('df-f966cc0a-4558-4e08-9131-f339e0bccff4')\"\n",
              "            title=\"Convert this dataframe to an interactive table.\"\n",
              "            style=\"display:none;\">\n",
              "\n",
              "  <svg xmlns=\"http://www.w3.org/2000/svg\" height=\"24px\" viewBox=\"0 -960 960 960\">\n",
              "    <path d=\"M120-120v-720h720v720H120Zm60-500h600v-160H180v160Zm220 220h160v-160H400v160Zm0 220h160v-160H400v160ZM180-400h160v-160H180v160Zm440 0h160v-160H620v160ZM180-180h160v-160H180v160Zm440 0h160v-160H620v160Z\"/>\n",
              "  </svg>\n",
              "    </button>\n",
              "\n",
              "  <style>\n",
              "    .colab-df-container {\n",
              "      display:flex;\n",
              "      gap: 12px;\n",
              "    }\n",
              "\n",
              "    .colab-df-convert {\n",
              "      background-color: #E8F0FE;\n",
              "      border: none;\n",
              "      border-radius: 50%;\n",
              "      cursor: pointer;\n",
              "      display: none;\n",
              "      fill: #1967D2;\n",
              "      height: 32px;\n",
              "      padding: 0 0 0 0;\n",
              "      width: 32px;\n",
              "    }\n",
              "\n",
              "    .colab-df-convert:hover {\n",
              "      background-color: #E2EBFA;\n",
              "      box-shadow: 0px 1px 2px rgba(60, 64, 67, 0.3), 0px 1px 3px 1px rgba(60, 64, 67, 0.15);\n",
              "      fill: #174EA6;\n",
              "    }\n",
              "\n",
              "    .colab-df-buttons div {\n",
              "      margin-bottom: 4px;\n",
              "    }\n",
              "\n",
              "    [theme=dark] .colab-df-convert {\n",
              "      background-color: #3B4455;\n",
              "      fill: #D2E3FC;\n",
              "    }\n",
              "\n",
              "    [theme=dark] .colab-df-convert:hover {\n",
              "      background-color: #434B5C;\n",
              "      box-shadow: 0px 1px 3px 1px rgba(0, 0, 0, 0.15);\n",
              "      filter: drop-shadow(0px 1px 2px rgba(0, 0, 0, 0.3));\n",
              "      fill: #FFFFFF;\n",
              "    }\n",
              "  </style>\n",
              "\n",
              "    <script>\n",
              "      const buttonEl =\n",
              "        document.querySelector('#df-f966cc0a-4558-4e08-9131-f339e0bccff4 button.colab-df-convert');\n",
              "      buttonEl.style.display =\n",
              "        google.colab.kernel.accessAllowed ? 'block' : 'none';\n",
              "\n",
              "      async function convertToInteractive(key) {\n",
              "        const element = document.querySelector('#df-f966cc0a-4558-4e08-9131-f339e0bccff4');\n",
              "        const dataTable =\n",
              "          await google.colab.kernel.invokeFunction('convertToInteractive',\n",
              "                                                    [key], {});\n",
              "        if (!dataTable) return;\n",
              "\n",
              "        const docLinkHtml = 'Like what you see? Visit the ' +\n",
              "          '<a target=\"_blank\" href=https://colab.research.google.com/notebooks/data_table.ipynb>data table notebook</a>'\n",
              "          + ' to learn more about interactive tables.';\n",
              "        element.innerHTML = '';\n",
              "        dataTable['output_type'] = 'display_data';\n",
              "        await google.colab.output.renderOutput(dataTable, element);\n",
              "        const docLink = document.createElement('div');\n",
              "        docLink.innerHTML = docLinkHtml;\n",
              "        element.appendChild(docLink);\n",
              "      }\n",
              "    </script>\n",
              "  </div>\n",
              "\n",
              "\n",
              "<div id=\"df-231f0e2d-23bd-41c1-abc1-42ef16570261\">\n",
              "  <button class=\"colab-df-quickchart\" onclick=\"quickchart('df-231f0e2d-23bd-41c1-abc1-42ef16570261')\"\n",
              "            title=\"Suggest charts\"\n",
              "            style=\"display:none;\">\n",
              "\n",
              "<svg xmlns=\"http://www.w3.org/2000/svg\" height=\"24px\"viewBox=\"0 0 24 24\"\n",
              "     width=\"24px\">\n",
              "    <g>\n",
              "        <path d=\"M19 3H5c-1.1 0-2 .9-2 2v14c0 1.1.9 2 2 2h14c1.1 0 2-.9 2-2V5c0-1.1-.9-2-2-2zM9 17H7v-7h2v7zm4 0h-2V7h2v10zm4 0h-2v-4h2v4z\"/>\n",
              "    </g>\n",
              "</svg>\n",
              "  </button>\n",
              "\n",
              "<style>\n",
              "  .colab-df-quickchart {\n",
              "      --bg-color: #E8F0FE;\n",
              "      --fill-color: #1967D2;\n",
              "      --hover-bg-color: #E2EBFA;\n",
              "      --hover-fill-color: #174EA6;\n",
              "      --disabled-fill-color: #AAA;\n",
              "      --disabled-bg-color: #DDD;\n",
              "  }\n",
              "\n",
              "  [theme=dark] .colab-df-quickchart {\n",
              "      --bg-color: #3B4455;\n",
              "      --fill-color: #D2E3FC;\n",
              "      --hover-bg-color: #434B5C;\n",
              "      --hover-fill-color: #FFFFFF;\n",
              "      --disabled-bg-color: #3B4455;\n",
              "      --disabled-fill-color: #666;\n",
              "  }\n",
              "\n",
              "  .colab-df-quickchart {\n",
              "    background-color: var(--bg-color);\n",
              "    border: none;\n",
              "    border-radius: 50%;\n",
              "    cursor: pointer;\n",
              "    display: none;\n",
              "    fill: var(--fill-color);\n",
              "    height: 32px;\n",
              "    padding: 0;\n",
              "    width: 32px;\n",
              "  }\n",
              "\n",
              "  .colab-df-quickchart:hover {\n",
              "    background-color: var(--hover-bg-color);\n",
              "    box-shadow: 0 1px 2px rgba(60, 64, 67, 0.3), 0 1px 3px 1px rgba(60, 64, 67, 0.15);\n",
              "    fill: var(--button-hover-fill-color);\n",
              "  }\n",
              "\n",
              "  .colab-df-quickchart-complete:disabled,\n",
              "  .colab-df-quickchart-complete:disabled:hover {\n",
              "    background-color: var(--disabled-bg-color);\n",
              "    fill: var(--disabled-fill-color);\n",
              "    box-shadow: none;\n",
              "  }\n",
              "\n",
              "  .colab-df-spinner {\n",
              "    border: 2px solid var(--fill-color);\n",
              "    border-color: transparent;\n",
              "    border-bottom-color: var(--fill-color);\n",
              "    animation:\n",
              "      spin 1s steps(1) infinite;\n",
              "  }\n",
              "\n",
              "  @keyframes spin {\n",
              "    0% {\n",
              "      border-color: transparent;\n",
              "      border-bottom-color: var(--fill-color);\n",
              "      border-left-color: var(--fill-color);\n",
              "    }\n",
              "    20% {\n",
              "      border-color: transparent;\n",
              "      border-left-color: var(--fill-color);\n",
              "      border-top-color: var(--fill-color);\n",
              "    }\n",
              "    30% {\n",
              "      border-color: transparent;\n",
              "      border-left-color: var(--fill-color);\n",
              "      border-top-color: var(--fill-color);\n",
              "      border-right-color: var(--fill-color);\n",
              "    }\n",
              "    40% {\n",
              "      border-color: transparent;\n",
              "      border-right-color: var(--fill-color);\n",
              "      border-top-color: var(--fill-color);\n",
              "    }\n",
              "    60% {\n",
              "      border-color: transparent;\n",
              "      border-right-color: var(--fill-color);\n",
              "    }\n",
              "    80% {\n",
              "      border-color: transparent;\n",
              "      border-right-color: var(--fill-color);\n",
              "      border-bottom-color: var(--fill-color);\n",
              "    }\n",
              "    90% {\n",
              "      border-color: transparent;\n",
              "      border-bottom-color: var(--fill-color);\n",
              "    }\n",
              "  }\n",
              "</style>\n",
              "\n",
              "  <script>\n",
              "    async function quickchart(key) {\n",
              "      const quickchartButtonEl =\n",
              "        document.querySelector('#' + key + ' button');\n",
              "      quickchartButtonEl.disabled = true;  // To prevent multiple clicks.\n",
              "      quickchartButtonEl.classList.add('colab-df-spinner');\n",
              "      try {\n",
              "        const charts = await google.colab.kernel.invokeFunction(\n",
              "            'suggestCharts', [key], {});\n",
              "      } catch (error) {\n",
              "        console.error('Error during call to suggestCharts:', error);\n",
              "      }\n",
              "      quickchartButtonEl.classList.remove('colab-df-spinner');\n",
              "      quickchartButtonEl.classList.add('colab-df-quickchart-complete');\n",
              "    }\n",
              "    (() => {\n",
              "      let quickchartButtonEl =\n",
              "        document.querySelector('#df-231f0e2d-23bd-41c1-abc1-42ef16570261 button');\n",
              "      quickchartButtonEl.style.display =\n",
              "        google.colab.kernel.accessAllowed ? 'block' : 'none';\n",
              "    })();\n",
              "  </script>\n",
              "</div>\n",
              "\n",
              "    </div>\n",
              "  </div>\n"
            ],
            "application/vnd.google.colaboratory.intrinsic+json": {
              "type": "dataframe",
              "variable_name": "bitcoin_original_df",
              "summary": "{\n  \"name\": \"bitcoin_original_df\",\n  \"rows\": 2170,\n  \"fields\": [\n    {\n      \"column\": \"Date\",\n      \"properties\": {\n        \"dtype\": \"date\",\n        \"min\": \"2019-01-01 00:00:00\",\n        \"max\": \"2024-12-09 00:00:00\",\n        \"num_unique_values\": 2170,\n        \"samples\": [\n          \"2021-08-25 00:00:00\",\n          \"2024-01-02 00:00:00\",\n          \"2021-04-08 00:00:00\"\n        ],\n        \"semantic_type\": \"\",\n        \"description\": \"\"\n      }\n    },\n    {\n      \"column\": \"Price\",\n      \"properties\": {\n        \"dtype\": \"number\",\n        \"std\": 21169.291038231724,\n        \"min\": 3397.7,\n        \"max\": 101115.8,\n        \"num_unique_values\": 2163,\n        \"samples\": [\n          19181.8,\n          10785.3,\n          40529.4\n        ],\n        \"semantic_type\": \"\",\n        \"description\": \"\"\n      }\n    },\n    {\n      \"column\": \"Open\",\n      \"properties\": {\n        \"dtype\": \"number\",\n        \"std\": 21129.004430754216,\n        \"min\": 3397.3,\n        \"max\": 101129.7,\n        \"num_unique_values\": 2158,\n        \"samples\": [\n          37789.5,\n          42886.3,\n          28724.0\n        ],\n        \"semantic_type\": \"\",\n        \"description\": \"\"\n      }\n    },\n    {\n      \"column\": \"High\",\n      \"properties\": {\n        \"dtype\": \"number\",\n        \"std\": 21607.980959439137,\n        \"min\": 3421.8,\n        \"max\": 103719.4,\n        \"num_unique_values\": 2158,\n        \"samples\": [\n          41406.0,\n          43392.7,\n          30165.9\n        ],\n        \"semantic_type\": \"\",\n        \"description\": \"\"\n      }\n    },\n    {\n      \"column\": \"Low\",\n      \"properties\": {\n        \"dtype\": \"number\",\n        \"std\": 20649.538418577005,\n        \"min\": 3368.2,\n        \"max\": 98969.0,\n        \"num_unique_values\": 2167,\n        \"samples\": [\n          15973.4,\n          9139.9,\n          17658.8\n        ],\n        \"semantic_type\": \"\",\n        \"description\": \"\"\n      }\n    },\n    {\n      \"column\": \"Vol.\",\n      \"properties\": {\n        \"dtype\": \"string\",\n        \"num_unique_values\": 2076,\n        \"samples\": [\n          \"20.33K\",\n          \"72.48K\",\n          \"337.15K\"\n        ],\n        \"semantic_type\": \"\",\n        \"description\": \"\"\n      }\n    },\n    {\n      \"column\": \"Change %\",\n      \"properties\": {\n        \"dtype\": \"category\",\n        \"num_unique_values\": 985,\n        \"samples\": [\n          \"-4.70%\",\n          \"2.21%\",\n          \"-8.40%\"\n        ],\n        \"semantic_type\": \"\",\n        \"description\": \"\"\n      }\n    },\n    {\n      \"column\": \"Stock Volatility\",\n      \"properties\": {\n        \"dtype\": \"number\",\n        \"std\": 774.3560569717854,\n        \"min\": 4.095933765036098,\n        \"max\": 5839.150863781525,\n        \"num_unique_values\": 2166,\n        \"samples\": [\n          494.3145447701316,\n          23.353800669633053,\n          499.9571648360207\n        ],\n        \"semantic_type\": \"\",\n        \"description\": \"\"\n      }\n    }\n  ]\n}"
            }
          },
          "metadata": {},
          "execution_count": 15
        }
      ]
    },
    {
      "source": [
        "from matplotlib import pyplot as plt\n",
        "_df_0['Price'].plot(kind='hist', bins=20, title='Price')\n",
        "plt.gca().spines[['top', 'right',]].set_visible(False)"
      ],
      "cell_type": "code",
      "metadata": {
        "colab": {
          "base_uri": "https://localhost:8080/",
          "height": 452
        },
        "id": "ByHgEX8brXMl",
        "outputId": "7a839541-9a89-49c6-bfb8-22d6377026ab"
      },
      "execution_count": 16,
      "outputs": [
        {
          "output_type": "display_data",
          "data": {
            "text/plain": [
              "<Figure size 640x480 with 1 Axes>"
            ],
            "image/png": "[encoded data removed]"
          },
          "metadata": {}
        }
      ]
    },
    {
      "cell_type": "code",
      "source": [],
      "metadata": {
        "id": "mvMtoNg3q0BQ"
      },
      "execution_count": 13,
      "outputs": []
    }
  ]
}